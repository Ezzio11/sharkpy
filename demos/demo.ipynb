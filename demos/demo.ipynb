{
 "cells": [
  {
   "cell_type": "markdown",
   "id": "5adafeda",
   "metadata": {},
   "source": [
    "# SharkPy Tutorial Notebook 🦈\n",
    "\n",
    "Welcome to the SharkPy tutorial! SharkPy is a fun, user-friendly machine learning package that simplifies model training, prediction, explanation, and more. In this notebook, we'll walk through the key features of SharkPy using example datasets.\n",
    "\n",
    "This notebook is designed to be run in Jupyter or Colab. Let's dive in! 🌊\n",
    "\n",
    "## Installation\n",
    "\n",
    "First, install SharkPy if you haven't already\n",
    "\n",
    "```python\n",
    "!pip install sharkpy"
   ]
  },
  {
   "cell_type": "markdown",
   "id": "92ec99eb",
   "metadata": {},
   "source": [
    "# Import Required Libraries\n",
    "Import SharkPy and other necessary libraries for data handling and visualization"
   ]
  },
  {
   "cell_type": "code",
   "execution_count": null,
   "id": "6d712382",
   "metadata": {
    "vscode": {
     "languageId": "plaintext"
    }
   },
   "outputs": [],
   "source": [
    "from sharkpy import Shark\n",
    "import pandas as pd\n",
    "import numpy as np"
   ]
  },
  {
   "cell_type": "markdown",
   "id": "42762a61",
   "metadata": {},
   "source": [
    "## Basic Usage: Regression Example\n",
    "Let's start with a simple regression task using synthetic data."
   ]
  },
  {
   "cell_type": "markdown",
   "id": "7ad9c3cf",
   "metadata": {},
   "source": [
    "### Create Synthetic Regression Data"
   ]
  },
  {
   "cell_type": "code",
   "execution_count": null,
   "id": "f87dffac",
   "metadata": {
    "vscode": {
     "languageId": "plaintext"
    }
   },
   "outputs": [],
   "source": [
    "# Generate sample regression data\n",
    "np.random.seed(42)\n",
    "data = pd.DataFrame({\n",
    "    'feature1': np.random.normal(0, 1, 100),\n",
    "    'feature2': np.random.normal(5, 2, 100),\n",
    "    'target': np.random.normal(10, 3, 100) + np.random.normal(0, 1, 100)\n",
    "})\n",
    "\n",
    "print(data.head())"
   ]
  },
  {
   "cell_type": "markdown",
   "id": "51304e6f",
   "metadata": {},
   "source": [
    "### Initialize Shark and Train a Model"
   ]
  },
  {
   "cell_type": "code",
   "execution_count": null,
   "id": "80e795a3",
   "metadata": {
    "vscode": {
     "languageId": "plaintext"
    }
   },
   "outputs": [],
   "source": [
    "shark = Shark()\n",
    "\n",
    "# Train a linear regression model\n",
    "shark.learn(\n",
    "    data=data,\n",
    "    target='target',\n",
    "    project_name='Regression Demo',\n",
    "    model_choice='linear_regression'\n",
    ")"
   ]
  },
  {
   "cell_type": "markdown",
   "id": "57b2cdfa",
   "metadata": {},
   "source": [
    "### Make Predictions"
   ]
  },
  {
   "cell_type": "code",
   "execution_count": null,
   "id": "9567adea",
   "metadata": {
    "vscode": {
     "languageId": "plaintext"
    }
   },
   "outputs": [],
   "source": [
    "# Predict on the training data\n",
    "predictions = shark.predict()\n",
    "print(\"First 5 predictions:\", predictions[:5])\n",
    "\n",
    "# Predict on new data\n",
    "new_data = pd.DataFrame({\n",
    "    'feature1': [0.5, -0.5],\n",
    "    'feature2': [4.0, 6.0]\n",
    "})\n",
    "new_predictions = shark.predict(new_data)\n",
    "print(\"New predictions:\", new_predictions)"
   ]
  },
  {
   "cell_type": "markdown",
   "id": "b645b608",
   "metadata": {},
   "source": [
    "### Report Model Performance"
   ]
  },
  {
   "cell_type": "code",
   "execution_count": null,
   "id": "66f121a7",
   "metadata": {
    "vscode": {
     "languageId": "plaintext"
    }
   },
   "outputs": [],
   "source": [
    "cv_results, train_metrics = shark.report(cv_folds=5)\n",
    "print(\"CV Results:\", cv_results)\n",
    "print(\"Train Metrics:\", train_metrics)"
   ]
  },
  {
   "cell_type": "markdown",
   "id": "15c9a9b1",
   "metadata": {},
   "source": [
    "### Explain the Model"
   ]
  },
  {
   "cell_type": "code",
   "execution_count": null,
   "id": "a8bc82cd",
   "metadata": {
    "vscode": {
     "languageId": "plaintext"
    }
   },
   "outputs": [],
   "source": [
    "shark.explain(depth='simple', format='txt', export_path='regression_explanation.txt')"
   ]
  },
  {
   "cell_type": "markdown",
   "id": "b634bfd5",
   "metadata": {},
   "source": [
    "### Plot Model Insights"
   ]
  },
  {
   "cell_type": "code",
   "execution_count": null,
   "id": "da7eeca9",
   "metadata": {
    "vscode": {
     "languageId": "plaintext"
    }
   },
   "outputs": [],
   "source": [
    "from sharkpy.plotting import plot_model\n",
    "\n",
    "# Plot predictions\n",
    "plot_model(shark.model, shark.features, shark.target, kind=\"prediction\", show=True)\n",
    "\n",
    "# Plot residuals\n",
    "plot_model(shark.model, shark.features, shark.target, kind=\"residuals\", show=True)"
   ]
  },
  {
   "cell_type": "markdown",
   "id": "4f59bb3c",
   "metadata": {},
   "source": [
    "### Save and Load Model"
   ]
  },
  {
   "cell_type": "code",
   "execution_count": null,
   "id": "f5e704b4",
   "metadata": {
    "vscode": {
     "languageId": "plaintext"
    }
   },
   "outputs": [],
   "source": [
    "# Save the model\n",
    "save_path = shark.save_model(name='regression_model')\n",
    "\n",
    "# Load the model in a new Shark instance\n",
    "new_shark = Shark()\n",
    "loaded_model = new_shark.load_model(save_path)\n",
    "print(\"Loaded model:\", loaded_model)"
   ]
  },
  {
   "cell_type": "markdown",
   "id": "de11f859",
   "metadata": {},
   "source": [
    "# Classification Example\n",
    "Now, let's try classification with the Iris dataset."
   ]
  },
  {
   "cell_type": "markdown",
   "id": "139e51e3",
   "metadata": {},
   "source": [
    "### Load Iris Data"
   ]
  },
  {
   "cell_type": "code",
   "execution_count": null,
   "id": "6fea833b",
   "metadata": {
    "vscode": {
     "languageId": "plaintext"
    }
   },
   "outputs": [],
   "source": [
    "iris_url = 'https://raw.githubusercontent.com/jbrownlee/Datasets/master/iris.csv'\n",
    "iris_data = pd.read_csv(iris_url, header=None)\n",
    "iris_data.columns = ['sepal_length', 'sepal_width', 'petal_length', 'petal_width', 'species']\n",
    "\n",
    "print(iris_data.head())"
   ]
  },
  {
   "cell_type": "markdown",
   "id": "8978e6a7",
   "metadata": {},
   "source": [
    "### Train a Classification Model"
   ]
  },
  {
   "cell_type": "code",
   "execution_count": null,
   "id": "bdd626c1",
   "metadata": {
    "vscode": {
     "languageId": "plaintext"
    }
   },
   "outputs": [],
   "source": [
    "shark_class = Shark()\n",
    "\n",
    "shark_class.learn(\n",
    "    data=iris_data,\n",
    "    target='species',\n",
    "    project_name='Iris Classification',\n",
    "    model_choice='logistic_regression'\n",
    ")"
   ]
  },
  {
   "cell_type": "markdown",
   "id": "494d8c0e",
   "metadata": {},
   "source": [
    "### Make Predictions"
   ]
  },
  {
   "cell_type": "code",
   "execution_count": null,
   "id": "435982f2",
   "metadata": {
    "vscode": {
     "languageId": "plaintext"
    }
   },
   "outputs": [],
   "source": [
    "# Predict on training data\n",
    "class_predictions = shark_class.predict()\n",
    "print(\"First 5 predictions:\", class_predictions[:5])\n",
    "\n",
    "# Predict on new data (example)\n",
    "new_iris = pd.DataFrame({\n",
    "    'sepal_length': [5.1, 6.2],\n",
    "    'sepal_width': [3.5, 2.8],\n",
    "    'petal_length': [1.4, 4.3],\n",
    "    'petal_width': [0.2, 1.3]\n",
    "})\n",
    "new_class_preds = shark_class.predict(new_iris)\n",
    "print(\"New predictions:\", new_class_preds)"
   ]
  },
  {
   "cell_type": "markdown",
   "id": "1c9f74f0",
   "metadata": {},
   "source": [
    "### Confusion Matrix and ROC Curve"
   ]
  },
  {
   "cell_type": "code",
   "execution_count": null,
   "id": "0da0cfd0",
   "metadata": {
    "vscode": {
     "languageId": "plaintext"
    }
   },
   "outputs": [],
   "source": [
    "# Plot confusion matrix\n",
    "plot_model(shark_class.model, shark_class.features, shark_class.target, kind=\"confusion_matrix\", show=True)\n",
    "\n",
    "# Plot ROC curve (for binary or multiclass)\n",
    "plot_model(shark_class.model, shark_class.features, shark_class.target, kind=\"roc\", show=True)"
   ]
  },
  {
   "cell_type": "markdown",
   "id": "68c5cf98",
   "metadata": {},
   "source": [
    "# Model Battle: Compare Multiple Models\n",
    "Let's battle models on the Iris dataset!"
   ]
  },
  {
   "cell_type": "code",
   "execution_count": null,
   "id": "b870b4e7",
   "metadata": {
    "vscode": {
     "languageId": "plaintext"
    }
   },
   "outputs": [],
   "source": [
    "battle_result = shark_class.battle(\n",
    "    data=iris_data,\n",
    "    target='species',\n",
    "    models=['logistic_regression', 'random_forest', 'xgboost'],\n",
    "    metric='accuracy',\n",
    "    n_trials=10  # Fewer trials for demo\n",
    ")\n",
    "\n",
    "print(\"Champion model:\", battle_result['champion'])\n",
    "print(\"Score:\", battle_result['score'])\n",
    "\n",
    "# Display comparison plot\n",
    "battle_result['comparison']"
   ]
  },
  {
   "cell_type": "markdown",
   "id": "cd4137de",
   "metadata": {},
   "source": [
    "# Advanced: Shapash Integration\n",
    "If you have Shapash installed, you can create an interactive dashboard."
   ]
  },
  {
   "cell_type": "code",
   "execution_count": null,
   "id": "34bd9224",
   "metadata": {
    "vscode": {
     "languageId": "plaintext"
    }
   },
   "outputs": [],
   "source": [
    "!pip install shapash  # Install if needed\n",
    "\n",
    "shark_class.explain_with_shapash(title_story='Iris Model Explanation', display=True)"
   ]
  },
  {
   "cell_type": "markdown",
   "id": "a84e2b9a",
   "metadata": {},
   "source": [
    "# Custom Model and Optimization\n",
    "Use a custom model or optimized boosting models."
   ]
  },
  {
   "cell_type": "code",
   "execution_count": null,
   "id": "d21db248",
   "metadata": {
    "vscode": {
     "languageId": "plaintext"
    }
   },
   "outputs": [],
   "source": [
    "from sklearn.ensemble import RandomForestClassifier\n",
    "\n",
    "custom_shark = Shark()\n",
    "custom_shark.learn(\n",
    "    data=iris_data,\n",
    "    target='species',\n",
    "    model=RandomForestClassifier(n_estimators=50)  # Custom model\n",
    ")\n",
    "\n",
    "# Or use optimized XGBoost\n",
    "xg_shark = Shark()\n",
    "xg_shark.learn(\n",
    "    data=iris_data,\n",
    "    target='species',\n",
    "    model_choice='xgboost',\n",
    "    n_trials=20\n",
    ")"
   ]
  },
  {
   "cell_type": "markdown",
   "id": "98a9235d",
   "metadata": {},
   "source": [
    "# Available Models\n",
    "Check out all available models in SharkPy."
   ]
  },
  {
   "cell_type": "code",
   "execution_count": null,
   "id": "4aed5b4a",
   "metadata": {
    "vscode": {
     "languageId": "plaintext"
    }
   },
   "outputs": [],
   "source": [
    "available = shark.available_models()\n",
    "print(available)"
   ]
  },
  {
   "cell_type": "markdown",
   "id": "34541686",
   "metadata": {},
   "source": [
    "# Conclusion\n",
    "You've now explored the core features of SharkPy! Experiment with your own datasets, try different models, and use the battle feature to find the best one. If you encounter issues or have questions, check the documentation or reach out to the community.\n",
    "**Happy modeling! 🦈**"
   ]
  }
 ],
 "metadata": {
  "language_info": {
   "name": "python"
  }
 },
 "nbformat": 4,
 "nbformat_minor": 5
}
